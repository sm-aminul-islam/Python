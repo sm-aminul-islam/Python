{
  "nbformat": 4,
  "nbformat_minor": 0,
  "metadata": {
    "colab": {
      "provenance": [],
      "authorship_tag": "ABX9TyMC0WBRv1DfDBh8KdG1RfRx",
      "include_colab_link": true
    },
    "kernelspec": {
      "name": "python3",
      "display_name": "Python 3"
    },
    "language_info": {
      "name": "python"
    }
  },
  "cells": [
    {
      "cell_type": "markdown",
      "metadata": {
        "id": "view-in-github",
        "colab_type": "text"
      },
      "source": [
        "<a href=\"https://colab.research.google.com/github/sm-aminul-islam/Python/blob/main/Result.ipynb\" target=\"_parent\"><img src=\"https://colab.research.google.com/assets/colab-badge.svg\" alt=\"Open In Colab\"/></a>"
      ]
    },
    {
      "cell_type": "code",
      "execution_count": null,
      "metadata": {
        "colab": {
          "base_uri": "https://localhost:8080/"
        },
        "id": "avQtaZQfSjJQ",
        "outputId": "837dea21-1ac9-4509-ac33-0768bdf24380"
      },
      "outputs": [
        {
          "output_type": "stream",
          "name": "stdout",
          "text": [
            "65\n",
            "Your Grade is : B\n"
          ]
        }
      ],
      "source": [
        "Num=int(input())\n",
        "if(Num>=71 and Num<=100):\n",
        "  {\n",
        "      print(\"Your Grade is : A\")\n",
        "  }\n",
        "elif(Num>=56 and Num<=70):\n",
        "    {\n",
        "        print(\"Your Grade is : B\")\n",
        "    }\n",
        "elif(Num>=34 and Num<=55):\n",
        "    {\n",
        "    print(\"Your Grade is : C\")\n",
        "    }    \n",
        "else:\n",
        "   print(\"Your Grade is : F\")"
      ]
    },
    {
      "cell_type": "code",
      "source": [
        "Num1=float(input())\n",
        "O=input()\n",
        "Num2=float(input())\n",
        "if(O==\"+\"):\n",
        "  {\n",
        "     print(Num1+Num2) \n",
        "  }\n",
        "elif(O==\"-\"):\n",
        "  {\n",
        "         print(Num1-Num2)\n",
        "  }\n",
        "elif(O==\"*\"):\n",
        "  {\n",
        "      print(Num1*Num2)\n",
        "  }  \n",
        "elif(O==\"/\"):\n",
        "  {\n",
        "      print(Num1/Num2)\n",
        "  }  \n",
        "elif(O==\"%\"):\n",
        "  {\n",
        "      print(Num1%Num2)\n",
        "  }  \n",
        "else:\n",
        "  {\n",
        "      print(\"Operator dosen't match\")\n",
        "  }"
      ],
      "metadata": {
        "colab": {
          "base_uri": "https://localhost:8080/"
        },
        "id": "Ai-RkHWrU5xW",
        "outputId": "2035cb63-b98e-42e9-e0d7-6e53273439f9"
      },
      "execution_count": null,
      "outputs": [
        {
          "output_type": "stream",
          "name": "stdout",
          "text": [
            "5\n",
            "%\n",
            "3\n",
            "2.0\n"
          ]
        }
      ]
    },
    {
      "cell_type": "code",
      "source": [],
      "metadata": {
        "id": "Z-GhmucWYyvf"
      },
      "execution_count": null,
      "outputs": []
    }
  ]
}